{
  "nbformat": 4,
  "nbformat_minor": 0,
  "metadata": {
    "colab": {
      "provenance": []
    },
    "kernelspec": {
      "name": "python3",
      "display_name": "Python 3"
    },
    "language_info": {
      "name": "python"
    }
  },
  "cells": [
    {
      "cell_type": "markdown",
      "source": [
        "#CHI-SQUARE TEST"
      ],
      "metadata": {
        "id": "W_BesJzkld3P"
      }
    },
    {
      "cell_type": "code",
      "execution_count": null,
      "metadata": {
        "id": "30yYRrNnkDW0"
      },
      "outputs": [],
      "source": [
        "import pandas as pd\n",
        "import numpy as np\n",
        "from scipy.stats import chi2_contingency\n",
        "import scipy.stats as stats"
      ]
    },
    {
      "cell_type": "code",
      "source": [
        "# Data provided\n",
        "observed = [[50, 70], [80, 100], [60, 90], [30, 50], [20, 50]]\n",
        "\n",
        "# Perform Chi-Square Test\n",
        "chi2_stat, p_val, dof, ex = stats.chi2_contingency(observed)\n",
        "\n",
        "# Output results\n",
        "print(f\"Chi-Square Statistic: {chi2_stat}\")\n",
        "print(f\"p-value: {p_val}\")\n",
        "print(f\"Degrees of Freedom: {dof}\")\n",
        "print(f\"Expected Frequencies: \\n{ex}\")\n",
        "\n",
        "# Determine the critical value\n",
        "alpha = 0.05\n",
        "critical_value = stats.chi2.ppf(1 - alpha, dof)\n",
        "\n",
        "# Decision\n",
        "if chi2_stat > critical_value:\n",
        "    print(f\"Reject the null hypothesis. There is a significant association between device type and customer satisfaction.\")\n",
        "else:\n",
        "    print(f\"Fail to reject the null hypothesis. No significant association between device type and customer satisfaction.\")\n"
      ],
      "metadata": {
        "colab": {
          "base_uri": "https://localhost:8080/"
        },
        "id": "PoXFFr_RloMV",
        "outputId": "ae966a7e-9460-46d9-dc04-d479b5b75613"
      },
      "execution_count": null,
      "outputs": [
        {
          "output_type": "stream",
          "name": "stdout",
          "text": [
            "Chi-Square Statistic: 5.638227513227513\n",
            "p-value: 0.22784371130697179\n",
            "Degrees of Freedom: 4\n",
            "Expected Frequencies: \n",
            "[[ 48.  72.]\n",
            " [ 72. 108.]\n",
            " [ 60.  90.]\n",
            " [ 32.  48.]\n",
            " [ 28.  42.]]\n",
            "Fail to reject the null hypothesis. No significant association between device type and customer satisfaction.\n"
          ]
        }
      ]
    },
    {
      "cell_type": "code",
      "source": [
        "chi2_stat, p_val, dof, ex = stats.chi2_contingency(observed) # Perform Chi-Square Test"
      ],
      "metadata": {
        "id": "8KkNo-POl2Zh"
      },
      "execution_count": null,
      "outputs": []
    },
    {
      "cell_type": "code",
      "source": [
        "print(f\"Chi-Square Statistic: {chi2_stat}\") # Output results\n",
        "print(f\"p-value: {p_val}\") # Output results\n",
        "print(f\"Degrees of Freedom: {dof}\") # Output results\n",
        "print(f\"Expected Frequencies: \\n{ex}\")# Output results"
      ],
      "metadata": {
        "colab": {
          "base_uri": "https://localhost:8080/"
        },
        "id": "saSFMAwRl8_z",
        "outputId": "8539753e-6851-4937-e1ce-365947028579"
      },
      "execution_count": null,
      "outputs": [
        {
          "output_type": "stream",
          "name": "stdout",
          "text": [
            "Chi-Square Statistic: 5.638227513227513\n",
            "p-value: 0.22784371130697179\n",
            "Degrees of Freedom: 4\n",
            "Expected Frequencies: \n",
            "[[ 48.  72.]\n",
            " [ 72. 108.]\n",
            " [ 60.  90.]\n",
            " [ 32.  48.]\n",
            " [ 28.  42.]]\n"
          ]
        }
      ]
    },
    {
      "cell_type": "markdown",
      "source": [
        "#DECISION"
      ],
      "metadata": {
        "id": "B6Y0ASiXmCuq"
      }
    },
    {
      "cell_type": "code",
      "source": [
        " if chi2_stat > critical_value:\n",
        "    print(f\"Reject the null hypothesis. \")\n",
        "else:\n",
        "    print(f\"Fail to reject the null hypothesis. \")"
      ],
      "metadata": {
        "colab": {
          "base_uri": "https://localhost:8080/"
        },
        "id": "zE2mCK-el_Fm",
        "outputId": "21fcf3a9-059d-4280-a99e-c910608a0770"
      },
      "execution_count": null,
      "outputs": [
        {
          "output_type": "stream",
          "name": "stdout",
          "text": [
            "Fail to reject the null hypothesis. \n"
          ]
        }
      ]
    },
    {
      "cell_type": "markdown",
      "source": [
        "#Conclusion"
      ],
      "metadata": {
        "id": "1lDuuWiamNQd"
      }
    },
    {
      "cell_type": "markdown",
      "source": [
        "* There is a significant association between device type and customer satisfaction.\n",
        "* No significant association between device type and customer satisfaction."
      ],
      "metadata": {
        "id": "__1zk_nsmTV0"
      }
    },
    {
      "cell_type": "markdown",
      "source": [
        "#HYPOTHESIS TESTING"
      ],
      "metadata": {
        "id": "jcr72KR0mX3U"
      }
    },
    {
      "cell_type": "markdown",
      "source": [
        "**Data Provided:**\n",
        "* The theoretical weekly operating cost model: W = $1,000 + $5X\n",
        "* Sample of 25 restaurants with a mean weekly cost of Rs. 3,050\n",
        "* Number of units produced in a week (X) follows a normal distribution with a mean (μ) of 600 units and a standard deviation (σ) of 25 units\n"
      ],
      "metadata": {
        "id": "vFQ33TuKmtud"
      }
    },
    {
      "cell_type": "code",
      "source": [
        "# importing math\n",
        "import scipy.stats as stats\n",
        "import math"
      ],
      "metadata": {
        "id": "S9TBHshNmgxz"
      },
      "execution_count": null,
      "outputs": []
    },
    {
      "cell_type": "markdown",
      "source": [
        "**State the Hypotheses**"
      ],
      "metadata": {
        "id": "I4gnOlLbLKth"
      }
    },
    {
      "cell_type": "code",
      "source": [
        "mean = 1000+5*600 # The theoretical weekly operating cost mode\n",
        "sample_mean = 3050\n",
        "sd = 5*25 #Number of units produced in a week (X) and Standard deviation of X\n",
        "n= 25  # number of units or size\n",
        "print(' The mean value :- ',mean)\n",
        "print(' The sample_mean value :- ',sample_mean)\n",
        "print(' The Standard deviation  value :- ',sd)\n",
        "print(' The size value :-',n)"
      ],
      "metadata": {
        "colab": {
          "base_uri": "https://localhost:8080/"
        },
        "id": "oDWnM-a1m9IJ",
        "outputId": "de65c29a-0f30-436c-f941-c6fa6ba6a722"
      },
      "execution_count": null,
      "outputs": [
        {
          "output_type": "stream",
          "name": "stdout",
          "text": [
            " The mean value :-  4000\n",
            " The sample_mean value :-  3050\n",
            " The Standard deviation  value :-  125\n",
            " The size value :- 25\n"
          ]
        }
      ]
    },
    {
      "cell_type": "markdown",
      "source": [
        "#Calculate the Test Statistic"
      ],
      "metadata": {
        "id": "0zL6XG79nC2-"
      }
    },
    {
      "cell_type": "code",
      "source": [
        "z = (sample_mean-mean)/(sd/math.sqrt(n)) # to find the z test value\n",
        "print('The Z Test statistic:-', z)"
      ],
      "metadata": {
        "colab": {
          "base_uri": "https://localhost:8080/"
        },
        "id": "P8czm11wnASA",
        "outputId": "0412bd91-6276-420b-acf6-fa1e288641bd"
      },
      "execution_count": null,
      "outputs": [
        {
          "output_type": "stream",
          "name": "stdout",
          "text": [
            "The Z Test statistic:- -38.0\n"
          ]
        }
      ]
    },
    {
      "cell_type": "markdown",
      "source": [
        "#Determine the Critical Value using the Alpha level of 0.05"
      ],
      "metadata": {
        "id": "hByRiW_4nbGy"
      }
    },
    {
      "cell_type": "code",
      "source": [
        "alpha = 0.05 # alpha level\n",
        "critical_value = stats.norm.ppf(1-alpha)\n",
        "print('The Critical Value :-',critical_value )"
      ],
      "metadata": {
        "colab": {
          "base_uri": "https://localhost:8080/"
        },
        "id": "LZ8vl1C0nXXr",
        "outputId": "e5eac251-cdc3-464d-9624-d215d9aa4170"
      },
      "execution_count": null,
      "outputs": [
        {
          "output_type": "stream",
          "name": "stdout",
          "text": [
            "The Critical Value :- 1.6448536269514722\n"
          ]
        }
      ]
    }
  ]
}