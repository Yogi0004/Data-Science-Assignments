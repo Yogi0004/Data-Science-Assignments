{
  "nbformat": 4,
  "nbformat_minor": 0,
  "metadata": {
    "colab": {
      "provenance": []
    },
    "kernelspec": {
      "name": "python3",
      "display_name": "Python 3"
    },
    "language_info": {
      "name": "python"
    }
  },
  "cells": [
    {
      "cell_type": "markdown",
      "source": [
        "  # PYTHON PROGRAMMING ASSIGNMENT\n"
      ],
      "metadata": {
        "id": "EjQf2RtRFgtj"
      }
    },
    {
      "cell_type": "markdown",
      "source": [
        "**Exercise 1: Prime Numbers**\n",
        "\n",
        "Write a Python program that checks whether a given number is prime or not. A prime number is a natural number greater than 1 that has no positive divisors other than 1 and itself\n"
      ],
      "metadata": {
        "id": "csvDjcTAA7VL"
      }
    },
    {
      "cell_type": "code",
      "source": [
        "# Program to check if a number is prime or not\n",
        "\n",
        "def is_prime(num):\n",
        "    # Prime numbers are greater than 1\n",
        "    if num <= 1:\n",
        "        return False\n",
        "\n",
        "    # Check divisibility from 2 to square root of the number\n",
        "    for i in range(2, int(num ** 0.5) + 1):\n",
        "        # If num is divisible by any i, it is not prime\n",
        "        if num % i == 0:\n",
        "            return False\n",
        "\n",
        "    # If no divisors found, the number is prime\n",
        "    return True\n",
        "\n",
        "\n",
        "# ---- Main program starts here ----\n",
        "number = int(input(\"Enter a number: \"))  # Taking input from user\n",
        "\n",
        "# Checking and printing result\n",
        "if is_prime(number):\n",
        "    print(f\"{number} is a prime number.\")\n",
        "else:\n",
        "    print(f\"{number} is not a prime number.\")"
      ],
      "metadata": {
        "id": "J1ti4IZ1-6SU",
        "colab": {
          "base_uri": "https://localhost:8080/"
        },
        "outputId": "9b568426-f891-492c-8405-bf298edae3d2"
      },
      "execution_count": 1,
      "outputs": [
        {
          "output_type": "stream",
          "name": "stdout",
          "text": [
            "Enter a number: 10\n",
            "10 is not a prime number.\n"
          ]
        }
      ]
    },
    {
      "cell_type": "markdown",
      "source": [
        "**Exercise 2: Product of Random Numbers**\n",
        "\n",
        "Develop a Python program that generates two random numbers and asks the user to enter the product of these numbers. The program should then check if the user's answer is correct and display an appropriate message.\n"
      ],
      "metadata": {
        "id": "tT-25Xt9BEX-"
      }
    },
    {
      "cell_type": "code",
      "source": [
        "import random\n",
        "\n",
        "# Generate two random numbers between 1 and 10\n",
        "num1 = random.randint(1, 10)\n",
        "num2 = random.randint(1, 10)\n",
        "\n",
        "# Show the numbers to the user\n",
        "print(f\"Multiply the following numbers: {num1} and {num2}\")\n",
        "\n",
        "# Ask the user to enter the product\n",
        "user_answer = int(input(\"Enter the product: \"))\n",
        "\n",
        "# Calculate the actual product\n",
        "correct_answer = num1 * num2\n",
        "\n",
        "# ---- Checking the user's answer ----\n",
        "if user_answer == correct_answer:\n",
        "    # If correct, show success message\n",
        "    print(\" Correct! Well done.\")\n",
        "else:\n",
        "    # If wrong, show the correct answer\n",
        "    print(f\" Wrong! The correct answer is {correct_answer}.\")"
      ],
      "metadata": {
        "colab": {
          "base_uri": "https://localhost:8080/"
        },
        "id": "irPRQVaFA2ui",
        "outputId": "944afee9-5a9b-4e6b-8b75-b3e692cffbea"
      },
      "execution_count": 2,
      "outputs": [
        {
          "output_type": "stream",
          "name": "stdout",
          "text": [
            "Multiply the following numbers: 1 and 9\n",
            "Enter the product: 9\n",
            " Correct! Well done.\n"
          ]
        }
      ]
    },
    {
      "cell_type": "markdown",
      "source": [
        "**Exercise 3: Squares of Even/Odd Numbers**\n",
        "\n",
        "Create a Python script that prints the squares of all even or odd numbers within the range of 100 to 200. Choose either even or odd numbers and document your choice in the code.\n"
      ],
      "metadata": {
        "id": "ee0hxX5bCkPY"
      }
    },
    {
      "cell_type": "code",
      "source": [
        "# Choose even numbers\n",
        "# Loop through numbers from 100 to 200\n",
        "for num in range(100, 201):\n",
        "    # Check if the number is even\n",
        "    if num % 2 == 0:\n",
        "        # Print the number and its square\n",
        "       print(\"The even \", num,'and the sqaures nuber',num**2)"
      ],
      "metadata": {
        "colab": {
          "base_uri": "https://localhost:8080/"
        },
        "id": "yZaI1VW-B4rU",
        "outputId": "a74f30ab-78be-48ab-cc6b-6fe3b9adc9e8"
      },
      "execution_count": 4,
      "outputs": [
        {
          "output_type": "stream",
          "name": "stdout",
          "text": [
            "The even  100 and the sqaures nuber 10000\n",
            "The even  102 and the sqaures nuber 10404\n",
            "The even  104 and the sqaures nuber 10816\n",
            "The even  106 and the sqaures nuber 11236\n",
            "The even  108 and the sqaures nuber 11664\n",
            "The even  110 and the sqaures nuber 12100\n",
            "The even  112 and the sqaures nuber 12544\n",
            "The even  114 and the sqaures nuber 12996\n",
            "The even  116 and the sqaures nuber 13456\n",
            "The even  118 and the sqaures nuber 13924\n",
            "The even  120 and the sqaures nuber 14400\n",
            "The even  122 and the sqaures nuber 14884\n",
            "The even  124 and the sqaures nuber 15376\n",
            "The even  126 and the sqaures nuber 15876\n",
            "The even  128 and the sqaures nuber 16384\n",
            "The even  130 and the sqaures nuber 16900\n",
            "The even  132 and the sqaures nuber 17424\n",
            "The even  134 and the sqaures nuber 17956\n",
            "The even  136 and the sqaures nuber 18496\n",
            "The even  138 and the sqaures nuber 19044\n",
            "The even  140 and the sqaures nuber 19600\n",
            "The even  142 and the sqaures nuber 20164\n",
            "The even  144 and the sqaures nuber 20736\n",
            "The even  146 and the sqaures nuber 21316\n",
            "The even  148 and the sqaures nuber 21904\n",
            "The even  150 and the sqaures nuber 22500\n",
            "The even  152 and the sqaures nuber 23104\n",
            "The even  154 and the sqaures nuber 23716\n",
            "The even  156 and the sqaures nuber 24336\n",
            "The even  158 and the sqaures nuber 24964\n",
            "The even  160 and the sqaures nuber 25600\n",
            "The even  162 and the sqaures nuber 26244\n",
            "The even  164 and the sqaures nuber 26896\n",
            "The even  166 and the sqaures nuber 27556\n",
            "The even  168 and the sqaures nuber 28224\n",
            "The even  170 and the sqaures nuber 28900\n",
            "The even  172 and the sqaures nuber 29584\n",
            "The even  174 and the sqaures nuber 30276\n",
            "The even  176 and the sqaures nuber 30976\n",
            "The even  178 and the sqaures nuber 31684\n",
            "The even  180 and the sqaures nuber 32400\n",
            "The even  182 and the sqaures nuber 33124\n",
            "The even  184 and the sqaures nuber 33856\n",
            "The even  186 and the sqaures nuber 34596\n",
            "The even  188 and the sqaures nuber 35344\n",
            "The even  190 and the sqaures nuber 36100\n",
            "The even  192 and the sqaures nuber 36864\n",
            "The even  194 and the sqaures nuber 37636\n",
            "The even  196 and the sqaures nuber 38416\n",
            "The even  198 and the sqaures nuber 39204\n",
            "The even  200 and the sqaures nuber 40000\n"
          ]
        }
      ]
    },
    {
      "cell_type": "markdown",
      "source": [
        "**Exercise 4: Word counter**\n",
        "\n",
        "write a program to count the number of words in a given text.\n",
        "example:\n",
        "input_text = \"This is a sample text. This text will be used to demonstrate the word counter.\"\n",
        "Expected output:\n",
        "'This': 2\n",
        "'is': 1\n",
        "'a': 1\n",
        "'sample': 1\n",
        "'text.': 1\n",
        "\n"
      ],
      "metadata": {
        "id": "P_fiK6HLD0zP"
      }
    },
    {
      "cell_type": "code",
      "source": [
        "#Program to count the number of words in a given text\n",
        "\n",
        "# Sample input text\n",
        "text = \"This is a sample text. This text will be used to demonstrate the word counter.\"\n",
        "\n",
        "# Step 1: Split the text into words\n",
        "# The split() function will break the string into a list of words based on spaces\n",
        "words = text.split()\n",
        "\n",
        "# Step 2: Create an empty dictionary to store word counts\n",
        "word_count = {}\n",
        "\n",
        "# Step 3: Loop through each word in the list\n",
        "for word in words:\n",
        "    # If word already exists in dictionary, increment its count\n",
        "    if word in word_count:\n",
        "        word_count[word] += 1\n",
        "    else:\n",
        "        # If word is not in dictionary, add it with count 1\n",
        "        word_count[word] = 1\n",
        "\n",
        "# Step 4: Print the word counts\n",
        "for word, count in word_count.items():\n",
        "    print(f\"'{word}': {count}\")"
      ],
      "metadata": {
        "colab": {
          "base_uri": "https://localhost:8080/"
        },
        "id": "FNWwD4Q7DbU7",
        "outputId": "3d8c403f-bcbf-4d3c-9acf-4fb87803758f"
      },
      "execution_count": 5,
      "outputs": [
        {
          "output_type": "stream",
          "name": "stdout",
          "text": [
            "'This': 2\n",
            "'is': 1\n",
            "'a': 1\n",
            "'sample': 1\n",
            "'text.': 1\n",
            "'text': 1\n",
            "'will': 1\n",
            "'be': 1\n",
            "'used': 1\n",
            "'to': 1\n",
            "'demonstrate': 1\n",
            "'the': 1\n",
            "'word': 1\n",
            "'counter.': 1\n"
          ]
        }
      ]
    },
    {
      "cell_type": "markdown",
      "metadata": {
        "id": "ebed3dec"
      },
      "source": [
        "**Exercise 5: Check for Palindrome**\n",
        "\n",
        "Write a Python function called is_palindrome that takes a string as input and returns True if the string is a palindrome, and False otherwise. A palindrome is a word, phrase, number, or other sequence of characters that reads the same forward and backward, ignoring spaces, punctuation, and capitalization.\n",
        "Example:\n",
        "Input: \"racecar\"\n",
        "Expected Output: True\n",
        "\n",
        "\n"
      ]
    },
    {
      "cell_type": "code",
      "source": [
        "import string\n",
        "\n",
        "# Function to check if a string is a palindrome\n",
        "def is_palindrome(s):\n",
        "    # Step 1: Convert to lowercase to ignore capitalization\n",
        "    s = s.lower()\n",
        "\n",
        "    # Step 2: Remove spaces and punctuation\n",
        "    cleaned = \"\"\n",
        "    for char in s:\n",
        "        if char.isalnum():   # keep only letters and numbers\n",
        "            cleaned += char\n",
        "\n",
        "    # Step 3: Check if the cleaned string reads the same forwards and backwards\n",
        "    return cleaned == cleaned[::-1]  # slicing to reverse the string\n",
        "\n",
        "\n",
        "# ---- Main Program ----\n",
        "# Example input\n",
        "text = \"Racecar\"\n",
        "\n",
        "# Check if palindrome and print result\n",
        "if is_palindrome(text):\n",
        "    print(\"True (It's a palindrome)\")\n",
        "else:\n",
        "    print(\"False (Not a palindrome)\")"
      ],
      "metadata": {
        "colab": {
          "base_uri": "https://localhost:8080/"
        },
        "id": "enTaQAX8GXRa",
        "outputId": "42d845bb-d192-49ec-8f38-8f6ff0af9a31"
      },
      "execution_count": 6,
      "outputs": [
        {
          "output_type": "stream",
          "name": "stdout",
          "text": [
            "True (It's a palindrome)\n"
          ]
        }
      ]
    },
    {
      "cell_type": "code",
      "source": [],
      "metadata": {
        "id": "mSFs0zL0GfF6"
      },
      "execution_count": null,
      "outputs": []
    }
  ]
}