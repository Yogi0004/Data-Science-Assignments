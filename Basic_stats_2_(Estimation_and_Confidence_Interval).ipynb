{
  "nbformat": 4,
  "nbformat_minor": 0,
  "metadata": {
    "colab": {
      "provenance": []
    },
    "kernelspec": {
      "name": "python3",
      "display_name": "Python 3"
    },
    "language_info": {
      "name": "python"
    }
  },
  "cells": [
    {
      "cell_type": "markdown",
      "source": [
        "# Estimation And Confidence Intervals\n",
        "\n"
      ],
      "metadata": {
        "id": "T91bvvu0gbFN"
      }
    },
    {
      "cell_type": "markdown",
      "source": [
        "#BACKGROUND"
      ],
      "metadata": {
        "id": "wIprrpYnggPE"
      }
    },
    {
      "cell_type": "markdown",
      "source": [
        "In quality control processes, especially when dealing with high-value items, destructive sampling is a necessary but costly method to ensure product quality. The test to determine whether an item meets the quality standards destroys the item, leading to the requirement of small sample sizes due to cost constraints."
      ],
      "metadata": {
        "id": "KF-LJ1GOgmD6"
      }
    },
    {
      "cell_type": "markdown",
      "source": [
        "#SCENARIO"
      ],
      "metadata": {
        "id": "YJ_2jK5og1Ke"
      }
    },
    {
      "cell_type": "markdown",
      "source": [
        "A manufacturer of print-heads for personal computers is interested in estimating the mean durability of their print-heads in terms of the number of characters printed before failure. To assess this, the manufacturer conducts a study on a small sample of print-heads due to the destructive nature of the testing process."
      ],
      "metadata": {
        "id": "qkNpqx18g-YD"
      }
    },
    {
      "cell_type": "markdown",
      "source": [
        "#DATA"
      ],
      "metadata": {
        "id": "VlFogCw9hCNd"
      }
    },
    {
      "cell_type": "markdown",
      "source": [
        "A total of 15 print-heads were randomly selected and tested until failure. The durability of each print-head (in millions of characters) was recorded as follows:"
      ],
      "metadata": {
        "id": "RrZ5U3cNhGMs"
      }
    },
    {
      "cell_type": "code",
      "source": [
        "data = [1.13, 1.55, 1.43, 0.92, 1.25, 1.36, 1.32, 0.85, 1.07, 1.48, 1.20, 1.33, 1.18, 1.22, 1.29] # Its use data find\n",
        "print(data) # to display the data"
      ],
      "metadata": {
        "colab": {
          "base_uri": "https://localhost:8080/"
        },
        "id": "nOXxoKm4g7aA",
        "outputId": "6eee9759-48a0-4e47-b41c-d07261aca304"
      },
      "execution_count": null,
      "outputs": [
        {
          "output_type": "stream",
          "name": "stdout",
          "text": [
            "[1.13, 1.55, 1.43, 0.92, 1.25, 1.36, 1.32, 0.85, 1.07, 1.48, 1.2, 1.33, 1.18, 1.22, 1.29]\n"
          ]
        }
      ]
    },
    {
      "cell_type": "markdown",
      "source": [
        "#Assignment Tasks"
      ],
      "metadata": {
        "id": "wyFDvoF0hOdu"
      }
    },
    {
      "cell_type": "markdown",
      "source": [
        "**a. Build 99% Confidence Interval Using Sample Standard Deviation**"
      ],
      "metadata": {
        "id": "k5bZMz7PhbJB"
      }
    },
    {
      "cell_type": "markdown",
      "source": [
        "Assuming the sample is representative of the population, construct a 99% confidence interval for the mean number of characters printed before the print-head fails using the sample standard deviation. Explain the steps you take and the rationale behind using the t-distribution for this task."
      ],
      "metadata": {
        "id": "2STBDiMyhfTw"
      }
    },
    {
      "cell_type": "code",
      "source": [
        " # importing numpy\n",
        " import numpy as np"
      ],
      "metadata": {
        "id": "j61LzwDKhddY"
      },
      "execution_count": null,
      "outputs": []
    },
    {
      "cell_type": "code",
      "source": [
        "data = np.array([1.13, 1.55, 1.43, 0.92, 1.25, 1.36, 1.32, 0.85, 1.07, 1.48, 1.20, 1.33, 1.18, 1.22, 1.29]) # its converting into array form\n",
        "data"
      ],
      "metadata": {
        "colab": {
          "base_uri": "https://localhost:8080/"
        },
        "id": "17jM1SbhhqAy",
        "outputId": "8c43f2ee-5858-4c2c-9e8e-86ce670b0f75"
      },
      "execution_count": null,
      "outputs": [
        {
          "output_type": "execute_result",
          "data": {
            "text/plain": [
              "array([1.13, 1.55, 1.43, 0.92, 1.25, 1.36, 1.32, 0.85, 1.07, 1.48, 1.2 ,\n",
              "       1.33, 1.18, 1.22, 1.29])"
            ]
          },
          "metadata": {},
          "execution_count": 4
        }
      ]
    },
    {
      "cell_type": "code",
      "source": [
        "# Its use for stats\n",
        "import scipy.stats as stats"
      ],
      "metadata": {
        "id": "ASu-uZethsuo"
      },
      "execution_count": null,
      "outputs": []
    },
    {
      "cell_type": "code",
      "source": [
        "lenth = len(data) # size of the data\n",
        "mean = np.mean(data) # find mean of the data\n",
        "std = np.std(data, ddof =1)# find Sample standard deviation and ddof=1 gives the sample standard deviation\n",
        "confidence_level = 0.99\n",
        "alpha = 1 - confidence_level\n",
        "t_critical = stats.t.ppf(1 - alpha/2, df=lenth-1)# corresponding t critical value\n",
        "margin_of_error = t_critical * (std / np.sqrt(lenth))#Margin of error\n",
        "ci_lower = mean - margin_of_error#Confidence interval lower\n",
        "\n",
        "ci_upper = mean + margin_of_error#Confidence interval upper\n",
        "print('Sample standard deviation:-',std)\n",
        "print('Confidence interval lower:-',ci_lower)\n",
        "print('Confidence interval upper:-',ci_upper)"
      ],
      "metadata": {
        "colab": {
          "base_uri": "https://localhost:8080/"
        },
        "id": "mt6Tc-2Oh5jz",
        "outputId": "e64d8d4c-d2e8-461f-8f52-316e8cbee9e9"
      },
      "execution_count": null,
      "outputs": [
        {
          "output_type": "stream",
          "name": "stdout",
          "text": [
            "Sample standard deviation:- 0.19316412956959936\n",
            "Confidence interval lower:- 1.0901973384384906\n",
            "Confidence interval upper:- 1.3871359948948425\n"
          ]
        }
      ]
    },
    {
      "cell_type": "markdown",
      "source": [
        "**From above outputs, I consider that the output by using built-in methods or manually calculated values are similar or almost equal.**\n",
        "\n",
        "\n",
        "\n",
        "# **Here why I am used the t-distribution:**\n",
        "\n",
        "* From the question, There no mension the standard deviation of population.\n",
        "\n",
        "* When the population standard deviation is not mensioned the we go with the t-distribution else we go with z-distribution"
      ],
      "metadata": {
        "id": "et__MRlGiad-"
      }
    },
    {
      "cell_type": "markdown",
      "source": [
        "# b. Build 99% Confidence Interval Using Known Population Standard Deviation"
      ],
      "metadata": {
        "id": "4TWG8wa8ieMQ"
      }
    },
    {
      "cell_type": "code",
      "source": [
        "from scipy.stats import norm"
      ],
      "metadata": {
        "id": "utTG9G5biRqs"
      },
      "execution_count": null,
      "outputs": []
    },
    {
      "cell_type": "code",
      "source": [
        "population_std = 0.2# Known population standard deviation\n",
        "\n",
        "z_critical = stats.norm.ppf((1 + confidence_level) / 2)# z critical value for 99% confidence level\n",
        "\n",
        "\n",
        "margin_of_error_known = z_critical * (population_std / np.sqrt(lenth))# Margin of error\n",
        "\n",
        "\n",
        "ci_lower_known = mean - margin_of_error_known  # Confidence interval lower\n",
        "ci_upper_known = mean + margin_of_error_known   # Confidence interval upper\n",
        "\n",
        "print('standard deviation:-',population_std)\n",
        "print('Confidence interval lower:-',ci_lower_known)\n",
        "print('Confidence interval upper:-',ci_upper_known)"
      ],
      "metadata": {
        "colab": {
          "base_uri": "https://localhost:8080/"
        },
        "id": "9W7lBQ39iij9",
        "outputId": "8a41525d-65b9-41e7-e73f-7cc873b8f842"
      },
      "execution_count": null,
      "outputs": [
        {
          "output_type": "stream",
          "name": "stdout",
          "text": [
            "standard deviation:- 0.2\n",
            "Confidence interval lower:- 1.1056514133957607\n",
            "Confidence interval upper:- 1.3716819199375725\n"
          ]
        }
      ]
    },
    {
      "cell_type": "markdown",
      "source": [
        "**From above outputs, I consider that the output by using built-in methods or manually calculated values are similar or almost equal.**"
      ],
      "metadata": {
        "id": "Kz1qNN9Ui7Nt"
      }
    }
  ]
}